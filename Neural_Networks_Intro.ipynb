{
 "nbformat": 4,
 "nbformat_minor": 0,
 "metadata": {
  "colab": {
   "provenance": [],
   "collapsed_sections": [
    "1vrxvZR7HgDB",
    "fQnyJc5xPDrX",
    "jnPhnYBfP-de"
   ]
  },
  "kernelspec": {
   "name": "python3",
   "display_name": "Python 3"
  },
  "language_info": {
   "name": "python"
  }
 },
 "cells": [
  {
   "cell_type": "code",
   "execution_count": 1,
   "metadata": {
    "id": "TQ28ubZwAQUx"
   },
   "outputs": [],
   "source": [
    "import tensorflow as tf\n",
    "from tensorflow import keras\n",
    "\n",
    "import pandas as pd\n",
    "import numpy as np"
   ]
  },
  {
   "cell_type": "markdown",
   "source": [
    "# Linear - simplest classification\n",
    "\n",
    "### Classify if dot is red or blue\n",
    "\n",
    "<img src=\"https://github.com/KeithGalli/neural-nets/blob/master/examples/linear/figure.png?raw=true\" />"
   ],
   "metadata": {
    "id": "1vrxvZR7HgDB"
   }
  },
  {
   "cell_type": "code",
   "source": [
    "!wget https://raw.githubusercontent.com/KeithGalli/neural-nets/master/examples/linear/data/train.csv\n",
    "!wget https://raw.githubusercontent.com/KeithGalli/neural-nets/master/examples/linear/data/test.csv\n",
    "!mkdir -p data\n",
    "!mv train.csv data/train.csv\n",
    "!mv test.csv data/test.csv"
   ],
   "metadata": {
    "colab": {
     "base_uri": "https://localhost:8080/"
    },
    "id": "Ohrn7rGiH1TV",
    "outputId": "e2093d67-5a3e-4fd1-c9e4-303bd3bb2d0b"
   },
   "execution_count": null,
   "outputs": [
    {
     "output_type": "stream",
     "name": "stdout",
     "text": [
      "--2023-05-19 13:10:44--  https://raw.githubusercontent.com/KeithGalli/neural-nets/master/examples/linear/data/train.csv\n",
      "Resolving raw.githubusercontent.com (raw.githubusercontent.com)... 185.199.108.133, 185.199.109.133, 185.199.110.133, ...\n",
      "Connecting to raw.githubusercontent.com (raw.githubusercontent.com)|185.199.108.133|:443... connected.\n",
      "HTTP request sent, awaiting response... 200 OK\n",
      "Length: 165238 (161K) [text/plain]\n",
      "Saving to: ‘train.csv’\n",
      "\n",
      "\rtrain.csv             0%[                    ]       0  --.-KB/s               \rtrain.csv           100%[===================>] 161.37K  --.-KB/s    in 0.01s   \n",
      "\n",
      "2023-05-19 13:10:44 (10.6 MB/s) - ‘train.csv’ saved [165238/165238]\n",
      "\n",
      "--2023-05-19 13:10:44--  https://raw.githubusercontent.com/KeithGalli/neural-nets/master/examples/linear/data/test.csv\n",
      "Resolving raw.githubusercontent.com (raw.githubusercontent.com)... 185.199.108.133, 185.199.109.133, 185.199.110.133, ...\n",
      "Connecting to raw.githubusercontent.com (raw.githubusercontent.com)|185.199.108.133|:443... connected.\n",
      "HTTP request sent, awaiting response... 200 OK\n",
      "Length: 41298 (40K) [text/plain]\n",
      "Saving to: ‘test.csv’\n",
      "\n",
      "test.csv            100%[===================>]  40.33K  --.-KB/s    in 0.006s  \n",
      "\n",
      "2023-05-19 13:10:44 (7.07 MB/s) - ‘test.csv’ saved [41298/41298]\n",
      "\n"
     ]
    }
   ]
  },
  {
   "cell_type": "code",
   "source": [
    "train_df = pd.read_csv('./data/train.csv')\n",
    "np.random.shuffle(train_df.values)\n",
    "\n",
    "train_df.head()"
   ],
   "metadata": {
    "colab": {
     "base_uri": "https://localhost:8080/",
     "height": 206
    },
    "id": "EI_6Mr4MHfZW",
    "outputId": "9c9e9680-5592-41a2-8cd8-8cd1ac736e04"
   },
   "execution_count": null,
   "outputs": [
    {
     "output_type": "execute_result",
     "data": {
      "text/plain": [
       "          x         y  color\n",
       "0  1.718725  0.819522    1.0\n",
       "1  4.586811  5.462708    0.0\n",
       "2  4.171289  3.257468    1.0\n",
       "3  4.639014  5.215073    0.0\n",
       "4  4.482917  3.496453    1.0"
      ],
      "text/html": [
       "\n",
       "  <div id=\"df-ba0ad4d7-07de-45a1-9205-91b6d403b617\">\n",
       "    <div class=\"colab-df-container\">\n",
       "      <div>\n",
       "<style scoped>\n",
       "    .dataframe tbody tr th:only-of-type {\n",
       "        vertical-align: middle;\n",
       "    }\n",
       "\n",
       "    .dataframe tbody tr th {\n",
       "        vertical-align: top;\n",
       "    }\n",
       "\n",
       "    .dataframe thead th {\n",
       "        text-align: right;\n",
       "    }\n",
       "</style>\n",
       "<table border=\"1\" class=\"dataframe\">\n",
       "  <thead>\n",
       "    <tr style=\"text-align: right;\">\n",
       "      <th></th>\n",
       "      <th>x</th>\n",
       "      <th>y</th>\n",
       "      <th>color</th>\n",
       "    </tr>\n",
       "  </thead>\n",
       "  <tbody>\n",
       "    <tr>\n",
       "      <th>0</th>\n",
       "      <td>1.718725</td>\n",
       "      <td>0.819522</td>\n",
       "      <td>1.0</td>\n",
       "    </tr>\n",
       "    <tr>\n",
       "      <th>1</th>\n",
       "      <td>4.586811</td>\n",
       "      <td>5.462708</td>\n",
       "      <td>0.0</td>\n",
       "    </tr>\n",
       "    <tr>\n",
       "      <th>2</th>\n",
       "      <td>4.171289</td>\n",
       "      <td>3.257468</td>\n",
       "      <td>1.0</td>\n",
       "    </tr>\n",
       "    <tr>\n",
       "      <th>3</th>\n",
       "      <td>4.639014</td>\n",
       "      <td>5.215073</td>\n",
       "      <td>0.0</td>\n",
       "    </tr>\n",
       "    <tr>\n",
       "      <th>4</th>\n",
       "      <td>4.482917</td>\n",
       "      <td>3.496453</td>\n",
       "      <td>1.0</td>\n",
       "    </tr>\n",
       "  </tbody>\n",
       "</table>\n",
       "</div>\n",
       "      <button class=\"colab-df-convert\" onclick=\"convertToInteractive('df-ba0ad4d7-07de-45a1-9205-91b6d403b617')\"\n",
       "              title=\"Convert this dataframe to an interactive table.\"\n",
       "              style=\"display:none;\">\n",
       "        \n",
       "  <svg xmlns=\"http://www.w3.org/2000/svg\" height=\"24px\"viewBox=\"0 0 24 24\"\n",
       "       width=\"24px\">\n",
       "    <path d=\"M0 0h24v24H0V0z\" fill=\"none\"/>\n",
       "    <path d=\"M18.56 5.44l.94 2.06.94-2.06 2.06-.94-2.06-.94-.94-2.06-.94 2.06-2.06.94zm-11 1L8.5 8.5l.94-2.06 2.06-.94-2.06-.94L8.5 2.5l-.94 2.06-2.06.94zm10 10l.94 2.06.94-2.06 2.06-.94-2.06-.94-.94-2.06-.94 2.06-2.06.94z\"/><path d=\"M17.41 7.96l-1.37-1.37c-.4-.4-.92-.59-1.43-.59-.52 0-1.04.2-1.43.59L10.3 9.45l-7.72 7.72c-.78.78-.78 2.05 0 2.83L4 21.41c.39.39.9.59 1.41.59.51 0 1.02-.2 1.41-.59l7.78-7.78 2.81-2.81c.8-.78.8-2.07 0-2.86zM5.41 20L4 18.59l7.72-7.72 1.47 1.35L5.41 20z\"/>\n",
       "  </svg>\n",
       "      </button>\n",
       "      \n",
       "  <style>\n",
       "    .colab-df-container {\n",
       "      display:flex;\n",
       "      flex-wrap:wrap;\n",
       "      gap: 12px;\n",
       "    }\n",
       "\n",
       "    .colab-df-convert {\n",
       "      background-color: #E8F0FE;\n",
       "      border: none;\n",
       "      border-radius: 50%;\n",
       "      cursor: pointer;\n",
       "      display: none;\n",
       "      fill: #1967D2;\n",
       "      height: 32px;\n",
       "      padding: 0 0 0 0;\n",
       "      width: 32px;\n",
       "    }\n",
       "\n",
       "    .colab-df-convert:hover {\n",
       "      background-color: #E2EBFA;\n",
       "      box-shadow: 0px 1px 2px rgba(60, 64, 67, 0.3), 0px 1px 3px 1px rgba(60, 64, 67, 0.15);\n",
       "      fill: #174EA6;\n",
       "    }\n",
       "\n",
       "    [theme=dark] .colab-df-convert {\n",
       "      background-color: #3B4455;\n",
       "      fill: #D2E3FC;\n",
       "    }\n",
       "\n",
       "    [theme=dark] .colab-df-convert:hover {\n",
       "      background-color: #434B5C;\n",
       "      box-shadow: 0px 1px 3px 1px rgba(0, 0, 0, 0.15);\n",
       "      filter: drop-shadow(0px 1px 2px rgba(0, 0, 0, 0.3));\n",
       "      fill: #FFFFFF;\n",
       "    }\n",
       "  </style>\n",
       "\n",
       "      <script>\n",
       "        const buttonEl =\n",
       "          document.querySelector('#df-ba0ad4d7-07de-45a1-9205-91b6d403b617 button.colab-df-convert');\n",
       "        buttonEl.style.display =\n",
       "          google.colab.kernel.accessAllowed ? 'block' : 'none';\n",
       "\n",
       "        async function convertToInteractive(key) {\n",
       "          const element = document.querySelector('#df-ba0ad4d7-07de-45a1-9205-91b6d403b617');\n",
       "          const dataTable =\n",
       "            await google.colab.kernel.invokeFunction('convertToInteractive',\n",
       "                                                     [key], {});\n",
       "          if (!dataTable) return;\n",
       "\n",
       "          const docLinkHtml = 'Like what you see? Visit the ' +\n",
       "            '<a target=\"_blank\" href=https://colab.research.google.com/notebooks/data_table.ipynb>data table notebook</a>'\n",
       "            + ' to learn more about interactive tables.';\n",
       "          element.innerHTML = '';\n",
       "          dataTable['output_type'] = 'display_data';\n",
       "          await google.colab.output.renderOutput(dataTable, element);\n",
       "          const docLink = document.createElement('div');\n",
       "          docLink.innerHTML = docLinkHtml;\n",
       "          element.appendChild(docLink);\n",
       "        }\n",
       "      </script>\n",
       "    </div>\n",
       "  </div>\n",
       "  "
      ]
     },
     "metadata": {},
     "execution_count": 8
    }
   ]
  },
  {
   "cell_type": "markdown",
   "source": [
    "#### Netowk definition and its layers"
   ],
   "metadata": {
    "id": "NKym8OdtMUX3"
   }
  },
  {
   "cell_type": "code",
   "source": [
    "\"\"\"\n",
    "\n",
    "Network look :  2 neurons -> 4 neuron -> 2 neurons\n",
    "       o\n",
    "  X -- o -- o\n",
    "  Y -- o -- o\n",
    "       o\n",
    "\n",
    "\"\"\"\n",
    "\n",
    "# Sequential allows us to list layers we want to have in our network\n",
    "model = keras.Sequential(\n",
    "    [\n",
    "        keras.layers.Dense(units=4, input_shape=(2,), activation='relu'), # First hidden layer has 4 units, input X,Y so dim = 2, RELU activation function -> default one\n",
    "        keras.layers.Dense(2, activation='sigmoid')\n",
    "    ]\n",
    ")\n",
    "\n",
    "model.compile(\n",
    "    optimizer='adam',\n",
    "    loss=keras.losses.SparseCategoricalCrossentropy(from_logits=True),\n",
    "    metrics=['accuracy']\n",
    ")"
   ],
   "metadata": {
    "id": "Wbfl57iDJKYv"
   },
   "execution_count": null,
   "outputs": []
  },
  {
   "cell_type": "markdown",
   "source": [
    "#### Data Prep and Training model"
   ],
   "metadata": {
    "id": "CuEICxZjMQXk"
   }
  },
  {
   "cell_type": "code",
   "source": [
    "# model.fit([x], [y], [batch_size])\n",
    "\n",
    "# Pandas DF -> Numpy\n",
    "x = np.column_stack((train_df.x.values, train_df.y.values))\n",
    "\n",
    "model.fit(x, train_df.color.values, batch_size=4, epochs=5)\n"
   ],
   "metadata": {
    "colab": {
     "base_uri": "https://localhost:8080/"
    },
    "id": "p0zw22d9MNW_",
    "outputId": "a3506e34-9075-4fa2-aea7-dfbbb42d4752"
   },
   "execution_count": null,
   "outputs": [
    {
     "output_type": "stream",
     "name": "stdout",
     "text": [
      "Epoch 1/5\n"
     ]
    },
    {
     "output_type": "stream",
     "name": "stderr",
     "text": [
      "/usr/local/lib/python3.10/dist-packages/keras/backend.py:5612: UserWarning: \"`sparse_categorical_crossentropy` received `from_logits=True`, but the `output` argument was produced by a Softmax activation and thus does not represent logits. Was this intended?\n",
      "  output, from_logits = _get_logits(\n"
     ]
    },
    {
     "output_type": "stream",
     "name": "stdout",
     "text": [
      "1000/1000 [==============================] - 3s 2ms/step - loss: 0.6853 - accuracy: 0.6990\n",
      "Epoch 2/5\n",
      "1000/1000 [==============================] - 2s 2ms/step - loss: 0.2365 - accuracy: 0.9935\n",
      "Epoch 3/5\n",
      "1000/1000 [==============================] - 2s 2ms/step - loss: 0.0963 - accuracy: 1.0000\n",
      "Epoch 4/5\n",
      "1000/1000 [==============================] - 3s 3ms/step - loss: 0.0447 - accuracy: 1.0000\n",
      "Epoch 5/5\n",
      "1000/1000 [==============================] - 2s 2ms/step - loss: 0.0228 - accuracy: 1.0000\n"
     ]
    },
    {
     "output_type": "execute_result",
     "data": {
      "text/plain": [
       "<keras.callbacks.History at 0x7f95b9240fa0>"
      ]
     },
     "metadata": {},
     "execution_count": 11
    }
   ]
  },
  {
   "cell_type": "markdown",
   "source": [
    "#### Test Data"
   ],
   "metadata": {
    "id": "fRXDNC1QN2fX"
   }
  },
  {
   "cell_type": "code",
   "source": [
    "test_df = pd.read_csv('./data/test.csv')\n",
    "test_x = np.column_stack((test_df.x.values, test_df.y.values))\n",
    "\n",
    "model.evaluate(test_x, test_df.color.values)"
   ],
   "metadata": {
    "colab": {
     "base_uri": "https://localhost:8080/"
    },
    "id": "N8coJ3M7N4XI",
    "outputId": "2ec5b298-a44d-46d1-8388-c965b7c4488f"
   },
   "execution_count": null,
   "outputs": [
    {
     "output_type": "stream",
     "name": "stdout",
     "text": [
      "22/32 [===================>..........] - ETA: 0s - loss: 0.0135 - accuracy: 1.0000"
     ]
    },
    {
     "output_type": "stream",
     "name": "stderr",
     "text": [
      "/usr/local/lib/python3.10/dist-packages/keras/backend.py:5612: UserWarning: \"`sparse_categorical_crossentropy` received `from_logits=True`, but the `output` argument was produced by a Softmax activation and thus does not represent logits. Was this intended?\n",
      "  output, from_logits = _get_logits(\n"
     ]
    },
    {
     "output_type": "stream",
     "name": "stdout",
     "text": [
      "\b\b\b\b\b\b\b\b\b\b\b\b\b\b\b\b\b\b\b\b\b\b\b\b\b\b\b\b\b\b\b\b\b\b\b\b\b\b\b\b\b\b\b\b\b\b\b\b\b\b\b\b\b\b\b\b\b\b\b\b\b\b\b\b\b\b\b\b\b\b\b\b\b\b\b\b\b\b\b\b\b\b\r32/32 [==============================] - 0s 3ms/step - loss: 0.0159 - accuracy: 1.0000\n"
     ]
    },
    {
     "output_type": "execute_result",
     "data": {
      "text/plain": [
       "[0.01586407981812954, 1.0]"
      ]
     },
     "metadata": {},
     "execution_count": 12
    }
   ]
  },
  {
   "cell_type": "markdown",
   "source": [
    "# Quadratic\n",
    "\n",
    "<img src=\"https://github.com/KeithGalli/neural-nets/blob/master/examples/quadratic/figure.png?raw=true\" />"
   ],
   "metadata": {
    "id": "fQnyJc5xPDrX"
   }
  },
  {
   "cell_type": "code",
   "source": [
    "!wget https://raw.githubusercontent.com/KeithGalli/neural-nets/master/examples/quadratic/data/train.csv\n",
    "!wget https://raw.githubusercontent.com/KeithGalli/neural-nets/master/examples/quadratic/data/test.csv\n",
    "!mkdir -p data\n",
    "!mv train.csv data/train.csv\n",
    "!mv test.csv data/test.csv"
   ],
   "metadata": {
    "colab": {
     "base_uri": "https://localhost:8080/"
    },
    "id": "ekFyZQqEQmsA",
    "outputId": "d566067e-d481-409a-9ebd-4f9fe40ec4c2"
   },
   "execution_count": null,
   "outputs": [
    {
     "output_type": "stream",
     "name": "stdout",
     "text": [
      "--2023-05-19 13:46:10--  https://raw.githubusercontent.com/KeithGalli/neural-nets/master/examples/quadratic/data/train.csv\n",
      "Resolving raw.githubusercontent.com (raw.githubusercontent.com)... 185.199.108.133, 185.199.109.133, 185.199.110.133, ...\n",
      "Connecting to raw.githubusercontent.com (raw.githubusercontent.com)|185.199.108.133|:443... connected.\n",
      "HTTP request sent, awaiting response... 200 OK\n",
      "Length: 167164 (163K) [text/plain]\n",
      "Saving to: ‘train.csv’\n",
      "\n",
      "\rtrain.csv             0%[                    ]       0  --.-KB/s               \rtrain.csv           100%[===================>] 163.25K  --.-KB/s    in 0.02s   \n",
      "\n",
      "2023-05-19 13:46:10 (9.18 MB/s) - ‘train.csv’ saved [167164/167164]\n",
      "\n",
      "--2023-05-19 13:46:10--  https://raw.githubusercontent.com/KeithGalli/neural-nets/master/examples/quadratic/data/test.csv\n",
      "Resolving raw.githubusercontent.com (raw.githubusercontent.com)... 185.199.108.133, 185.199.109.133, 185.199.110.133, ...\n",
      "Connecting to raw.githubusercontent.com (raw.githubusercontent.com)|185.199.108.133|:443... connected.\n",
      "HTTP request sent, awaiting response... 200 OK\n",
      "Length: 41833 (41K) [text/plain]\n",
      "Saving to: ‘test.csv’\n",
      "\n",
      "test.csv            100%[===================>]  40.85K  --.-KB/s    in 0.006s  \n",
      "\n",
      "2023-05-19 13:46:10 (6.18 MB/s) - ‘test.csv’ saved [41833/41833]\n",
      "\n"
     ]
    }
   ]
  },
  {
   "cell_type": "code",
   "source": [
    "# Almost the same code \n",
    "\n",
    "# Reading training data\n",
    "train_df = pd.read_csv('./data/train.csv')\n",
    "np.random.shuffle(train_df.values)\n",
    "\n",
    "print(train_df.head())\n",
    "\n",
    "# Here without adding a new layer we would get accuracy about 70% but we want more so we add relu layerand increase the neuron numbers per layer\n",
    "model = keras.Sequential([\n",
    "\tkeras.layers.Dense(32, input_shape=(2,), activation='relu'),\n",
    "\tkeras.layers.Dense(32, activation='relu'), # additional layer -> drop out at 20% doing do better so relu\n",
    "\tkeras.layers.Dense(2, activation='sigmoid')])\n",
    "\n",
    "model.compile(optimizer='adam', \n",
    "\t          loss=keras.losses.SparseCategoricalCrossentropy(from_logits=True),\n",
    "\t          metrics=['accuracy'])\n",
    "\n",
    "x = np.column_stack((train_df.x.values, train_df.y.values))\n",
    "\n",
    "model.fit(x, train_df.color.values, batch_size=4, epochs=10)\n",
    "\n",
    "test_df = pd.read_csv('./data/test.csv')\n",
    "test_x = np.column_stack((test_df.x.values, test_df.y.values))\n"
   ],
   "metadata": {
    "colab": {
     "base_uri": "https://localhost:8080/"
    },
    "id": "-xmq-Hd5PHlW",
    "outputId": "bf1abea4-09eb-4389-9423-49c79be88b94"
   },
   "execution_count": null,
   "outputs": [
    {
     "output_type": "stream",
     "name": "stdout",
     "text": [
      "          x          y  color\n",
      "0 -2.076833   6.105529    0.0\n",
      "1  4.986938  26.298164    0.0\n",
      "2 -2.199684   6.775975    0.0\n",
      "3  4.606364  19.309756    1.0\n",
      "4  0.238857  -1.239804    1.0\n",
      "Epoch 1/10\n"
     ]
    },
    {
     "output_type": "stream",
     "name": "stderr",
     "text": [
      "/usr/local/lib/python3.10/dist-packages/keras/backend.py:5612: UserWarning: \"`sparse_categorical_crossentropy` received `from_logits=True`, but the `output` argument was produced by a Softmax activation and thus does not represent logits. Was this intended?\n",
      "  output, from_logits = _get_logits(\n"
     ]
    },
    {
     "output_type": "stream",
     "name": "stdout",
     "text": [
      "1000/1000 [==============================] - 2s 2ms/step - loss: 0.5207 - accuracy: 0.7412\n",
      "Epoch 2/10\n",
      "1000/1000 [==============================] - 2s 2ms/step - loss: 0.2957 - accuracy: 0.8903\n",
      "Epoch 3/10\n",
      "1000/1000 [==============================] - 2s 2ms/step - loss: 0.2036 - accuracy: 0.9270\n",
      "Epoch 4/10\n",
      "1000/1000 [==============================] - 3s 3ms/step - loss: 0.1317 - accuracy: 0.9635\n",
      "Epoch 5/10\n",
      "1000/1000 [==============================] - 3s 3ms/step - loss: 0.1145 - accuracy: 0.9645\n",
      "Epoch 6/10\n",
      "1000/1000 [==============================] - 2s 2ms/step - loss: 0.0726 - accuracy: 0.9827\n",
      "Epoch 7/10\n",
      "1000/1000 [==============================] - 2s 2ms/step - loss: 0.0815 - accuracy: 0.9740\n",
      "Epoch 8/10\n",
      "1000/1000 [==============================] - 2s 2ms/step - loss: 0.0544 - accuracy: 0.9858\n",
      "Epoch 9/10\n",
      "1000/1000 [==============================] - 2s 2ms/step - loss: 0.0636 - accuracy: 0.9845\n",
      "Epoch 10/10\n",
      "1000/1000 [==============================] - 2s 2ms/step - loss: 0.0372 - accuracy: 0.9915\n"
     ]
    }
   ]
  },
  {
   "cell_type": "code",
   "source": [
    "model.evaluate(test_x, test_df.color.values)"
   ],
   "metadata": {
    "colab": {
     "base_uri": "https://localhost:8080/"
    },
    "id": "gCbDfaVmQ8zx",
    "outputId": "5109fbf8-2ed8-4940-e1e3-ccafc146e080"
   },
   "execution_count": null,
   "outputs": [
    {
     "output_type": "stream",
     "name": "stdout",
     "text": [
      "32/32 [==============================] - 0s 2ms/step - loss: 0.0189 - accuracy: 1.0000\n"
     ]
    },
    {
     "output_type": "stream",
     "name": "stderr",
     "text": [
      "/usr/local/lib/python3.10/dist-packages/keras/backend.py:5612: UserWarning: \"`sparse_categorical_crossentropy` received `from_logits=True`, but the `output` argument was produced by a Softmax activation and thus does not represent logits. Was this intended?\n",
      "  output, from_logits = _get_logits(\n"
     ]
    },
    {
     "output_type": "execute_result",
     "data": {
      "text/plain": [
       "[0.01894599385559559, 1.0]"
      ]
     },
     "metadata": {},
     "execution_count": 15
    }
   ]
  },
  {
   "cell_type": "markdown",
   "source": [
    "# Clusters\n",
    "\n",
    "<img src=\"https://github.com/KeithGalli/neural-nets/blob/master/examples/clusters/figure.png?raw=true\" alt=\"chart\" />"
   ],
   "metadata": {
    "id": "jnPhnYBfP-de"
   }
  },
  {
   "cell_type": "code",
   "source": [
    "!wget https://raw.githubusercontent.com/KeithGalli/neural-nets/master/examples/clusters/data/train.csv\n",
    "!wget https://raw.githubusercontent.com/KeithGalli/neural-nets/master/examples/clusters/data/test.csv\n",
    "!mkdir -p data\n",
    "!mv train.csv data/train.csv\n",
    "!mv test.csv data/test.csv"
   ],
   "metadata": {
    "colab": {
     "base_uri": "https://localhost:8080/"
    },
    "id": "07fWwR1lQL28",
    "outputId": "1308fe7f-84d6-49fc-e4ef-73f2864dd8af"
   },
   "execution_count": null,
   "outputs": [
    {
     "output_type": "stream",
     "name": "stdout",
     "text": [
      "--2023-05-19 13:47:59--  https://raw.githubusercontent.com/KeithGalli/neural-nets/master/examples/clusters/data/train.csv\n",
      "Resolving raw.githubusercontent.com (raw.githubusercontent.com)... 185.199.108.133, 185.199.109.133, 185.199.110.133, ...\n",
      "Connecting to raw.githubusercontent.com (raw.githubusercontent.com)|185.199.108.133|:443... connected.\n",
      "HTTP request sent, awaiting response... 200 OK\n",
      "Length: 263244 (257K) [text/plain]\n",
      "Saving to: ‘train.csv’\n",
      "\n",
      "train.csv           100%[===================>] 257.07K  --.-KB/s    in 0.02s   \n",
      "\n",
      "2023-05-19 13:47:59 (15.1 MB/s) - ‘train.csv’ saved [263244/263244]\n",
      "\n",
      "--2023-05-19 13:47:59--  https://raw.githubusercontent.com/KeithGalli/neural-nets/master/examples/clusters/data/test.csv\n",
      "Resolving raw.githubusercontent.com (raw.githubusercontent.com)... 185.199.108.133, 185.199.109.133, 185.199.110.133, ...\n",
      "Connecting to raw.githubusercontent.com (raw.githubusercontent.com)|185.199.108.133|:443... connected.\n",
      "HTTP request sent, awaiting response... 200 OK\n",
      "Length: 52671 (51K) [text/plain]\n",
      "Saving to: ‘test.csv’\n",
      "\n",
      "test.csv            100%[===================>]  51.44K  --.-KB/s    in 0.006s  \n",
      "\n",
      "2023-05-19 13:47:59 (7.91 MB/s) - ‘test.csv’ saved [52671/52671]\n",
      "\n"
     ]
    }
   ]
  },
  {
   "cell_type": "markdown",
   "source": [
    "#### READING DATA AND SLIGHT MODIFICATION -> 6 COLORS STRINGS TO NUMERICAL VALUE"
   ],
   "metadata": {
    "id": "yugHGMc0Rnjb"
   }
  },
  {
   "cell_type": "code",
   "source": [
    "train_df = pd.read_csv('./data/train.csv')\n",
    "\n",
    "# WE KNOW THERE ARE ONLY 6 COLORS SO DICT IS IN PLACE\n",
    "color_dict = {'red': 0, 'blue': 1, 'green': 2, 'teal': 3, 'orange': 4, 'purple': 5}\n",
    "\n",
    "train_df['color'] = train_df.color.apply(lambda x: color_dict[x])\n",
    "np.random.shuffle(train_df.values)"
   ],
   "metadata": {
    "id": "S_J5gocpRU-8"
   },
   "execution_count": null,
   "outputs": []
  },
  {
   "cell_type": "code",
   "source": [
    "print(train_df.head())\n",
    "print(train_df.color.unique())"
   ],
   "metadata": {
    "colab": {
     "base_uri": "https://localhost:8080/"
    },
    "id": "1JXPMzFkR7Jp",
    "outputId": "51a7694a-908c-44ca-8f11-75b6d2e3e7ff"
   },
   "execution_count": null,
   "outputs": [
    {
     "output_type": "stream",
     "name": "stdout",
     "text": [
      "          x         y  color\n",
      "0  0.129270  1.979720      0\n",
      "1 -0.380831  1.693519      0\n",
      "2  0.718693  1.791793      0\n",
      "3  0.722922  0.620655      0\n",
      "4 -0.432689  0.541550      0\n",
      "[0 1 2 3 4 5]\n"
     ]
    }
   ]
  },
  {
   "cell_type": "code",
   "source": [
    "# 32 NEURONS -> 32 NEURONS -> 6 NEURONS ( 6 SINCE 6 COLORS - NO LONGER 2 COLORS )\n",
    "\n",
    "model = keras.Sequential([\n",
    "\tkeras.layers.Dense(32, input_shape=(2,), activation='relu'),\n",
    "\tkeras.layers.Dense(32, activation='relu'),\n",
    "\tkeras.layers.Dense(6, activation='sigmoid')])\n",
    "\n",
    "model.compile(\n",
    "    optimizer='adam', \n",
    "\t  loss=keras.losses.SparseCategoricalCrossentropy(from_logits=True),\n",
    "\t  metrics=['accuracy']\n",
    ")"
   ],
   "metadata": {
    "id": "ELVy9z0ESQ3a"
   },
   "execution_count": null,
   "outputs": []
  },
  {
   "cell_type": "code",
   "source": [
    "x = np.column_stack((train_df.x.values, train_df.y.values))\n",
    "\n",
    "model.fit(x, train_df.color.values, batch_size=4, epochs=10)\n",
    "\n",
    "test_df = pd.read_csv('./data/test.csv')\n",
    "test_x = np.column_stack((test_df.x.values, test_df.y.values))"
   ],
   "metadata": {
    "colab": {
     "base_uri": "https://localhost:8080/"
    },
    "id": "atk-rxuBS73M",
    "outputId": "4ca862b8-f444-4fbd-b704-f5049d36c5d8"
   },
   "execution_count": null,
   "outputs": [
    {
     "output_type": "stream",
     "name": "stdout",
     "text": [
      "Epoch 1/10\n",
      "1500/1500 [==============================] - 3s 2ms/step - loss: 0.5421 - accuracy: 0.8083\n",
      "Epoch 2/10\n",
      "1500/1500 [==============================] - 4s 2ms/step - loss: 0.1645 - accuracy: 0.9503\n",
      "Epoch 3/10\n",
      "1500/1500 [==============================] - 3s 2ms/step - loss: 0.1202 - accuracy: 0.9590\n",
      "Epoch 4/10\n",
      "1500/1500 [==============================] - 3s 2ms/step - loss: 0.1014 - accuracy: 0.9652\n",
      "Epoch 5/10\n",
      "1500/1500 [==============================] - 3s 2ms/step - loss: 0.0896 - accuracy: 0.9677\n",
      "Epoch 6/10\n",
      "1500/1500 [==============================] - 4s 2ms/step - loss: 0.0809 - accuracy: 0.9702\n",
      "Epoch 7/10\n",
      "1500/1500 [==============================] - 3s 2ms/step - loss: 0.0787 - accuracy: 0.9685\n",
      "Epoch 8/10\n",
      "1500/1500 [==============================] - 3s 2ms/step - loss: 0.0755 - accuracy: 0.9688\n",
      "Epoch 9/10\n",
      "1500/1500 [==============================] - 3s 2ms/step - loss: 0.0723 - accuracy: 0.9723\n",
      "Epoch 10/10\n",
      "1500/1500 [==============================] - 3s 2ms/step - loss: 0.0669 - accuracy: 0.9762\n"
     ]
    }
   ]
  },
  {
   "cell_type": "markdown",
   "source": [
    "#### EVALUATION"
   ],
   "metadata": {
    "id": "4a2Rx59mTNiY"
   }
  },
  {
   "cell_type": "code",
   "source": [
    "test_df['color'] = test_df.color.apply(lambda x: color_dict[x]) # SAME COLOR TRANSFORMATION AS FOR TRAIN DATA\n",
    "model.evaluate(test_x, test_df.color.values)"
   ],
   "metadata": {
    "colab": {
     "base_uri": "https://localhost:8080/"
    },
    "id": "WSz5PC2lTQPp",
    "outputId": "53a128c3-bc4e-4b69-e016-a6315b3bbac9"
   },
   "execution_count": null,
   "outputs": [
    {
     "output_type": "stream",
     "name": "stdout",
     "text": [
      "22/38 [================>.............] - ETA: 0s - loss: 0.0667 - accuracy: 0.9716"
     ]
    },
    {
     "output_type": "stream",
     "name": "stderr",
     "text": [
      "/usr/local/lib/python3.10/dist-packages/keras/backend.py:5612: UserWarning: \"`sparse_categorical_crossentropy` received `from_logits=True`, but the `output` argument was produced by a Softmax activation and thus does not represent logits. Was this intended?\n",
      "  output, from_logits = _get_logits(\n"
     ]
    },
    {
     "output_type": "stream",
     "name": "stdout",
     "text": [
      "\b\b\b\b\b\b\b\b\b\b\b\b\b\b\b\b\b\b\b\b\b\b\b\b\b\b\b\b\b\b\b\b\b\b\b\b\b\b\b\b\b\b\b\b\b\b\b\b\b\b\b\b\b\b\b\b\b\b\b\b\b\b\b\b\b\b\b\b\b\b\b\b\b\b\b\b\b\b\b\b\b\b\r38/38 [==============================] - 0s 3ms/step - loss: 0.0670 - accuracy: 0.9733\n"
     ]
    },
    {
     "output_type": "execute_result",
     "data": {
      "text/plain": [
       "[0.06704011559486389, 0.9733333587646484]"
      ]
     },
     "metadata": {},
     "execution_count": 22
    }
   ]
  },
  {
   "cell_type": "markdown",
   "source": [
    "#### PREDICTION"
   ],
   "metadata": {
    "id": "_0k7ruxMTXxN"
   }
  },
  {
   "cell_type": "code",
   "source": [
    "# PREDICTION FOR A SINGLE POINT A(0,3)\n",
    "np.round( model.predict(np.array([[0,3]])) )"
   ],
   "metadata": {
    "colab": {
     "base_uri": "https://localhost:8080/"
    },
    "id": "9ekMX3ZcTasb",
    "outputId": "89a2af8b-045d-4546-cda5-002cbe274546"
   },
   "execution_count": null,
   "outputs": [
    {
     "output_type": "stream",
     "name": "stdout",
     "text": [
      "1/1 [==============================] - 0s 102ms/step\n"
     ]
    },
    {
     "output_type": "execute_result",
     "data": {
      "text/plain": [
       "array([[0., 0., 0., 0., 0., 1.]], dtype=float32)"
      ]
     },
     "metadata": {},
     "execution_count": 23
    }
   ]
  },
  {
   "cell_type": "markdown",
   "source": [
    "# 2 CATEGORIES PREDICTION - BOTH COLOR AND MARKER\n",
    "\n",
    "<img src=\"https://github.com/KeithGalli/neural-nets/blob/master/examples/clusters_two_categories/figure.png?raw=true\" />"
   ],
   "metadata": {
    "id": "mj_qhXT_UOss"
   }
  },
  {
   "cell_type": "markdown",
   "source": [
    "#### Data Format: [ x ] [ y ] [ color ] [ marker sign ]"
   ],
   "metadata": {
    "id": "47AxiRyqUqwh"
   }
  },
  {
   "cell_type": "code",
   "source": [
    "!wget https://raw.githubusercontent.com/KeithGalli/neural-nets/master/examples/clusters_two_categories/data/train.csv\n",
    "!wget https://raw.githubusercontent.com/KeithGalli/neural-nets/master/examples/clusters_two_categories/data/test.csv\n",
    "!mkdir -p data\n",
    "!mv train.csv data/train.csv\n",
    "!mv test.csv data/test.csv"
   ],
   "metadata": {
    "colab": {
     "base_uri": "https://localhost:8080/"
    },
    "id": "neox7AjpUb_f",
    "outputId": "def3e79a-236b-421a-e14a-f84d092e2e63"
   },
   "execution_count": 2,
   "outputs": [
    {
     "name": "stderr",
     "output_type": "stream",
     "text": [
      "'wget' is not recognized as an internal or external command,\n",
      "operable program or batch file.\n",
      "'wget' is not recognized as an internal or external command,\n",
      "operable program or batch file.\n",
      "'mv' is not recognized as an internal or external command,\n",
      "operable program or batch file.\n",
      "'mv' is not recognized as an internal or external command,\n",
      "operable program or batch file.\n"
     ]
    }
   ]
  },
  {
   "cell_type": "markdown",
   "source": [
    "#### Prevoisly\n",
    "Input data \n",
    "```\n",
    "3 # just color from 1-5\n",
    "```\n",
    "\n",
    "#### Now:\n",
    "\n",
    "first numbers in vector represent color and last 2 one of 2 markers\n",
    "```\n",
    "[0 0 0 0 0 1 0 0 1]\n",
    " --- color --- \n",
    "               --- <- marker \n",
    "```\n"
   ],
   "metadata": {
    "id": "9vBjPeRhVfzm"
   }
  },
  {
   "cell_type": "code",
   "source": [
    "train_df = pd.read_csv('./data/train.csv')\n",
    "test_df = pd.read_csv('./data/test.csv')"
   ],
   "metadata": {
    "id": "dqh8IG0Og94z"
   },
   "execution_count": 4,
   "outputs": []
  },
  {
   "cell_type": "code",
   "source": [
    "# pandas.get_dummies() does exactly that for us\n",
    "# one-hot encoding refers to encoding where 1 is the only true value np [ red green blue ] -> [ 0 1 0 ] means its green\n",
    "\n",
    "one_hot_color = pd.get_dummies(train_df['color']).values\n",
    "one_hot_marker = pd.get_dummies(train_df['marker']).values\n",
    "\n",
    "# to color [0 0 0 0 1 0 0] add marker [ 0 1 ] \n",
    "labels = np.concatenate((one_hot_color, one_hot_marker), axis=1)\n",
    "print(labels[0])\n",
    "\n",
    "print(train_df.head())"
   ],
   "metadata": {
    "colab": {
     "base_uri": "https://localhost:8080/"
    },
    "id": "6pW6z70jWLVR",
    "outputId": "60903980-b6ee-41ac-d11f-2d77a9b4910e"
   },
   "execution_count": 5,
   "outputs": [
    {
     "name": "stdout",
     "output_type": "stream",
     "text": [
      "[0 0 0 0 1 0 0 0 1]\n",
      "          x         y color marker\n",
      "0 -0.765775  1.006452   red      ^\n",
      "1  0.229016  0.094320   red      ^\n",
      "2  0.189987  1.589141   red      ^\n",
      "3  0.580085  0.520488   red      ^\n",
      "4  0.292287  0.317852   red      ^\n"
     ]
    }
   ]
  },
  {
   "cell_type": "code",
   "source": [
    "# Create the model\n",
    "model = keras.Sequential([\n",
    "    keras.layers.Dense(64, input_shape=(2,), activation='relu'),\n",
    "    keras.layers.Dense(64, activation='relu'),\n",
    "    keras.layers.Dense(labels.shape[1], activation='sigmoid')\n",
    "])\n",
    "\n",
    "# Compile the model\n",
    "# BinaryCross entropy considers each value in vector [ 0 0 0 0 0 1 1 0 ] independently of another so that allows us to have 2 categories this way\n",
    "model.compile(optimizer='adam',\n",
    "              loss=keras.losses.BinaryCrossentropy(from_logits=True),\n",
    "              metrics=['accuracy'])\n"
   ],
   "metadata": {
    "id": "kBbUNpVtXl0C"
   },
   "execution_count": 6,
   "outputs": []
  },
  {
   "cell_type": "code",
   "source": [
    "x_train = train_df[['x', 'y']].values\n",
    "# x_train =  np.column_stack((train_df.x.values, train_df.y.values))\n",
    "\n",
    "# Shuffle the input data and labels together\n",
    "# Here we must ensure that random shuffle is at the same rate both for x and labels with same seed\n",
    "np.random.RandomState(seed=42).shuffle(x_train)\n",
    "np.random.RandomState(seed=42).shuffle(labels)\n",
    "\n",
    "# Train the model\n",
    "model.fit(x_train, labels, batch_size=4, epochs=10)\n",
    "\n",
    "#            labels instead of train_df.color.values"
   ],
   "metadata": {
    "colab": {
     "base_uri": "https://localhost:8080/"
    },
    "id": "vamAvWJMXyq1",
    "outputId": "3d7354c6-0c54-41b0-e719-a1322add9982"
   },
   "execution_count": 7,
   "outputs": [
    {
     "name": "stdout",
     "output_type": "stream",
     "text": [
      "Epoch 1/10\n"
     ]
    },
    {
     "name": "stderr",
     "output_type": "stream",
     "text": [
      "C:\\Users\\Andrzej\\AppData\\Roaming\\Python\\Python39\\site-packages\\keras\\backend.py:5703: UserWarning: \"`binary_crossentropy` received `from_logits=True`, but the `output` argument was produced by a Sigmoid activation and thus does not represent logits. Was this intended?\n",
      "  output, from_logits = _get_logits(\n"
     ]
    },
    {
     "name": "stdout",
     "output_type": "stream",
     "text": [
      "1500/1500 [==============================] - 2s 718us/step - loss: 0.1961 - accuracy: 0.2653\n",
      "Epoch 2/10\n",
      "1500/1500 [==============================] - 1s 749us/step - loss: 0.0670 - accuracy: 0.3532\n",
      "Epoch 3/10\n",
      "1500/1500 [==============================] - 1s 763us/step - loss: 0.0468 - accuracy: 0.3093\n",
      "Epoch 4/10\n",
      "1500/1500 [==============================] - 1s 748us/step - loss: 0.0372 - accuracy: 0.3070\n",
      "Epoch 5/10\n",
      "1500/1500 [==============================] - 1s 785us/step - loss: 0.0327 - accuracy: 0.3087\n",
      "Epoch 6/10\n",
      "1500/1500 [==============================] - 1s 722us/step - loss: 0.0305 - accuracy: 0.3017\n",
      "Epoch 7/10\n",
      "1500/1500 [==============================] - 1s 747us/step - loss: 0.0282 - accuracy: 0.2942\n",
      "Epoch 8/10\n",
      "1500/1500 [==============================] - 1s 814us/step - loss: 0.0257 - accuracy: 0.2812\n",
      "Epoch 9/10\n",
      "1500/1500 [==============================] - 1s 830us/step - loss: 0.0251 - accuracy: 0.2688\n",
      "Epoch 10/10\n",
      "1500/1500 [==============================] - 1s 821us/step - loss: 0.0233 - accuracy: 0.2687\n"
     ]
    },
    {
     "data": {
      "text/plain": "<keras.callbacks.History at 0x182f9f5fee0>"
     },
     "execution_count": 7,
     "metadata": {},
     "output_type": "execute_result"
    }
   ]
  },
  {
   "cell_type": "code",
   "source": [
    "# Prepare the test data\n",
    "x_test = test_df[['x', 'y']].values\n",
    "\n",
    "# Perform one-hot encoding for test data\n",
    "test_one_hot_color = pd.get_dummies(test_df['color']).values\n",
    "test_one_hot_marker = pd.get_dummies(test_df['marker']).values\n",
    "test_labels = np.concatenate((test_one_hot_color, test_one_hot_marker), axis=1)\n",
    "\n",
    "# Evaluate the model\n",
    "print(\"Evaluation\")\n",
    "model.evaluate(x_test, test_labels)"
   ],
   "metadata": {
    "colab": {
     "base_uri": "https://localhost:8080/"
    },
    "id": "hSnMkG_AX3ly",
    "outputId": "73315300-189e-4193-c384-134593e3b026"
   },
   "execution_count": 8,
   "outputs": [
    {
     "name": "stdout",
     "output_type": "stream",
     "text": [
      "Evaluation\n",
      "38/38 [==============================] - 0s 673us/step - loss: 0.0202 - accuracy: 0.2825\n"
     ]
    },
    {
     "name": "stderr",
     "output_type": "stream",
     "text": [
      "C:\\Users\\Andrzej\\AppData\\Roaming\\Python\\Python39\\site-packages\\keras\\backend.py:5703: UserWarning: \"`binary_crossentropy` received `from_logits=True`, but the `output` argument was produced by a Sigmoid activation and thus does not represent logits. Was this intended?\n",
      "  output, from_logits = _get_logits(\n"
     ]
    },
    {
     "data": {
      "text/plain": "[0.020175468176603317, 0.2824999988079071]"
     },
     "execution_count": 8,
     "metadata": {},
     "output_type": "execute_result"
    }
   ]
  },
  {
   "cell_type": "code",
   "source": [
    "print(\"Prediction\", np.round(model.predict(np.array([[0,3], [0,1], [-2, 1]]))))"
   ],
   "metadata": {
    "colab": {
     "base_uri": "https://localhost:8080/"
    },
    "id": "JJt4AU-0dxQD",
    "outputId": "6c8e122a-2356-4feb-a084-bfbb765de1fb"
   },
   "execution_count": 76,
   "outputs": [
    {
     "output_type": "stream",
     "name": "stderr",
     "text": [
      "WARNING:tensorflow:6 out of the last 6 calls to <function Model.make_predict_function.<locals>.predict_function at 0x7f959c462c20> triggered tf.function retracing. Tracing is expensive and the excessive number of tracings could be due to (1) creating @tf.function repeatedly in a loop, (2) passing tensors with different shapes, (3) passing Python objects instead of tensors. For (1), please define your @tf.function outside of the loop. For (2), @tf.function has reduce_retracing=True option that can avoid unnecessary retracing. For (3), please refer to https://www.tensorflow.org/guide/function#controlling_retracing and https://www.tensorflow.org/api_docs/python/tf/function for  more details.\n"
     ]
    },
    {
     "output_type": "stream",
     "name": "stdout",
     "text": [
      "1/1 [==============================] - 0s 71ms/step\n",
      "Prediction [[0. 0. 0. 1. 0. 0. 1. 0. 0.]\n",
      " [0. 0. 0. 0. 1. 0. 0. 0. 1.]\n",
      " [0. 1. 0. 0. 0. 0. 0. 1. 0.]]\n"
     ]
    }
   ]
  },
  {
   "cell_type": "markdown",
   "source": [
    "# COMPLEX DATA"
   ],
   "metadata": {
    "id": "w7JTIl2jq1Bx"
   }
  },
  {
   "cell_type": "markdown",
   "source": [
    "<img src=\"https://github.com/KeithGalli/neural-nets/blob/master/examples/complex/figure.png?raw=true\" />"
   ],
   "metadata": {
    "id": "BjWo8dyoq_Xk"
   }
  },
  {
   "cell_type": "code",
   "source": [
    "!wget https://raw.githubusercontent.com/KeithGalli/neural-nets/master/examples/complex/data/train.csv\n",
    "!wget https://raw.githubusercontent.com/KeithGalli/neural-nets/master/examples/complex/data/test.csv\n",
    "!mkdir -p data\n",
    "!mv train.csv data/train.csv\n",
    "!mv test.csv data/test.csv"
   ],
   "metadata": {
    "colab": {
     "base_uri": "https://localhost:8080/"
    },
    "id": "-RVi1pOtrFVy",
    "outputId": "56b26306-acd3-4844-9840-f5149fd866dc"
   },
   "execution_count": 79,
   "outputs": [
    {
     "output_type": "stream",
     "name": "stdout",
     "text": [
      "--2023-05-19 15:43:25--  https://raw.githubusercontent.com/KeithGalli/neural-nets/master/examples/complex/data/train.csv\n",
      "Resolving raw.githubusercontent.com (raw.githubusercontent.com)... 185.199.108.133, 185.199.109.133, 185.199.110.133, ...\n",
      "Connecting to raw.githubusercontent.com (raw.githubusercontent.com)|185.199.108.133|:443... connected.\n",
      "HTTP request sent, awaiting response... 200 OK\n",
      "Length: 844057 (824K) [text/plain]\n",
      "Saving to: ‘train.csv’\n",
      "\n",
      "\rtrain.csv             0%[                    ]       0  --.-KB/s               \rtrain.csv           100%[===================>] 824.27K  --.-KB/s    in 0.03s   \n",
      "\n",
      "2023-05-19 15:43:26 (30.6 MB/s) - ‘train.csv’ saved [844057/844057]\n",
      "\n",
      "--2023-05-19 15:43:26--  https://raw.githubusercontent.com/KeithGalli/neural-nets/master/examples/complex/data/test.csv\n",
      "Resolving raw.githubusercontent.com (raw.githubusercontent.com)... 185.199.108.133, 185.199.109.133, 185.199.110.133, ...\n",
      "Connecting to raw.githubusercontent.com (raw.githubusercontent.com)|185.199.108.133|:443... connected.\n",
      "HTTP request sent, awaiting response... 200 OK\n",
      "Length: 211200 (206K) [text/plain]\n",
      "Saving to: ‘test.csv’\n",
      "\n",
      "test.csv            100%[===================>] 206.25K  --.-KB/s    in 0.02s   \n",
      "\n",
      "2023-05-19 15:43:26 (10.7 MB/s) - ‘test.csv’ saved [211200/211200]\n",
      "\n"
     ]
    }
   ]
  },
  {
   "cell_type": "code",
   "source": [
    "train_df = pd.read_csv('./data/train.csv')\n",
    "np.random.shuffle(train_df.values)\n",
    "\n",
    "print(train_df.head())"
   ],
   "metadata": {
    "colab": {
     "base_uri": "https://localhost:8080/"
    },
    "id": "Gc_HuTxXrWlb",
    "outputId": "af3c662f-149a-4c27-9bf0-338605cb3f07"
   },
   "execution_count": 80,
   "outputs": [
    {
     "output_type": "stream",
     "name": "stdout",
     "text": [
      "          x         y  color\n",
      "0 -0.608973 -2.885010    0.0\n",
      "1 -0.732411  1.520680    1.0\n",
      "2  3.521092  2.310161    1.0\n",
      "3 -0.265030  1.699833    1.0\n",
      "4  1.962163 -3.768290    0.0\n"
     ]
    }
   ]
  },
  {
   "cell_type": "code",
   "source": [
    "model = keras.Sequential([\n",
    "\tkeras.layers.Dense(256, input_shape=(2,), activation='relu'),\n",
    "\tkeras.layers.Dropout(0.4),\n",
    "\tkeras.layers.Dense(128, activation='relu'),\n",
    "\tkeras.layers.Dropout(0.4),\n",
    "\tkeras.layers.Dense(128, activation='relu'),\n",
    "\tkeras.layers.Dense(2, activation='sigmoid')\n",
    " ])\n",
    "\n",
    "model.compile(optimizer='adam', \n",
    "\t          loss=keras.losses.SparseCategoricalCrossentropy(from_logits=True),\n",
    "\t          metrics=['accuracy'])\n"
   ],
   "metadata": {
    "id": "4odEoqUKrx9k"
   },
   "execution_count": 81,
   "outputs": []
  },
  {
   "cell_type": "code",
   "source": [
    "x = np.column_stack((train_df.x.values, train_df.y.values))\n",
    "\n",
    "model.fit(x, train_df.color.values, batch_size=32, epochs=20)"
   ],
   "metadata": {
    "colab": {
     "base_uri": "https://localhost:8080/"
    },
    "id": "DAweeQPrsE5m",
    "outputId": "a736dca8-86ee-4853-9c73-ecc361481df1"
   },
   "execution_count": 82,
   "outputs": [
    {
     "output_type": "stream",
     "name": "stdout",
     "text": [
      "Epoch 1/20\n"
     ]
    },
    {
     "output_type": "stream",
     "name": "stderr",
     "text": [
      "/usr/local/lib/python3.10/dist-packages/keras/backend.py:5612: UserWarning: \"`sparse_categorical_crossentropy` received `from_logits=True`, but the `output` argument was produced by a Softmax activation and thus does not represent logits. Was this intended?\n",
      "  output, from_logits = _get_logits(\n"
     ]
    },
    {
     "output_type": "stream",
     "name": "stdout",
     "text": [
      "625/625 [==============================] - 4s 5ms/step - loss: 0.6296 - accuracy: 0.6134\n",
      "Epoch 2/20\n",
      "625/625 [==============================] - 2s 3ms/step - loss: 0.5965 - accuracy: 0.6690\n",
      "Epoch 3/20\n",
      "625/625 [==============================] - 2s 3ms/step - loss: 0.5550 - accuracy: 0.7192\n",
      "Epoch 4/20\n",
      "625/625 [==============================] - 2s 3ms/step - loss: 0.5253 - accuracy: 0.7422\n",
      "Epoch 5/20\n",
      "625/625 [==============================] - 2s 3ms/step - loss: 0.5053 - accuracy: 0.7542\n",
      "Epoch 6/20\n",
      "625/625 [==============================] - 2s 3ms/step - loss: 0.4822 - accuracy: 0.7662\n",
      "Epoch 7/20\n",
      "625/625 [==============================] - 2s 3ms/step - loss: 0.4686 - accuracy: 0.7765\n",
      "Epoch 8/20\n",
      "625/625 [==============================] - 2s 4ms/step - loss: 0.4571 - accuracy: 0.7835\n",
      "Epoch 9/20\n",
      "625/625 [==============================] - 2s 3ms/step - loss: 0.4389 - accuracy: 0.7936\n",
      "Epoch 10/20\n",
      "625/625 [==============================] - 2s 3ms/step - loss: 0.4307 - accuracy: 0.7966\n",
      "Epoch 11/20\n",
      "625/625 [==============================] - 2s 3ms/step - loss: 0.4203 - accuracy: 0.8034\n",
      "Epoch 12/20\n",
      "625/625 [==============================] - 2s 3ms/step - loss: 0.4076 - accuracy: 0.8119\n",
      "Epoch 13/20\n",
      "625/625 [==============================] - 2s 3ms/step - loss: 0.4036 - accuracy: 0.8108\n",
      "Epoch 14/20\n",
      "625/625 [==============================] - 2s 3ms/step - loss: 0.3920 - accuracy: 0.8163\n",
      "Epoch 15/20\n",
      "625/625 [==============================] - 2s 4ms/step - loss: 0.3866 - accuracy: 0.8189\n",
      "Epoch 16/20\n",
      "625/625 [==============================] - 2s 3ms/step - loss: 0.3817 - accuracy: 0.8218\n",
      "Epoch 17/20\n",
      "625/625 [==============================] - 2s 3ms/step - loss: 0.3723 - accuracy: 0.8236\n",
      "Epoch 18/20\n",
      "625/625 [==============================] - 2s 3ms/step - loss: 0.3681 - accuracy: 0.8289\n",
      "Epoch 19/20\n",
      "625/625 [==============================] - 2s 3ms/step - loss: 0.3653 - accuracy: 0.8303\n",
      "Epoch 20/20\n",
      "625/625 [==============================] - 2s 3ms/step - loss: 0.3477 - accuracy: 0.8385\n"
     ]
    },
    {
     "output_type": "execute_result",
     "data": {
      "text/plain": [
       "<keras.callbacks.History at 0x7f959bad3b50>"
      ]
     },
     "metadata": {},
     "execution_count": 82
    }
   ]
  },
  {
   "cell_type": "code",
   "source": [
    "test_df = pd.read_csv('./data/test.csv')\n",
    "test_x = np.column_stack((test_df.x.values, test_df.y.values))\n",
    "\n",
    "print(\"EVALUATION\")\n",
    "model.evaluate(test_x, test_df.color.values)"
   ],
   "metadata": {
    "colab": {
     "base_uri": "https://localhost:8080/"
    },
    "id": "tqmVDg74sVy2",
    "outputId": "45ea0d5a-6ec5-43c3-9eb9-a31351ea9ad6"
   },
   "execution_count": 83,
   "outputs": [
    {
     "output_type": "stream",
     "name": "stdout",
     "text": [
      "EVALUATION\n",
      " 28/157 [====>.........................] - ETA: 0s - loss: 0.2748 - accuracy: 0.8728 "
     ]
    },
    {
     "output_type": "stream",
     "name": "stderr",
     "text": [
      "/usr/local/lib/python3.10/dist-packages/keras/backend.py:5612: UserWarning: \"`sparse_categorical_crossentropy` received `from_logits=True`, but the `output` argument was produced by a Softmax activation and thus does not represent logits. Was this intended?\n",
      "  output, from_logits = _get_logits(\n"
     ]
    },
    {
     "output_type": "stream",
     "name": "stdout",
     "text": [
      "157/157 [==============================] - 0s 2ms/step - loss: 0.2954 - accuracy: 0.8614\n"
     ]
    },
    {
     "output_type": "execute_result",
     "data": {
      "text/plain": [
       "[0.2953557074069977, 0.8614000082015991]"
      ]
     },
     "metadata": {},
     "execution_count": 83
    }
   ]
  },
  {
   "cell_type": "code",
   "source": [
    "print(\"Prediction\", np.round(model.predict(np.array([[0,3], [0,1], [-2, 1]]))))"
   ],
   "metadata": {
    "id": "h-iGempwsfcI",
    "outputId": "7901df2b-2b2a-49d1-8ffd-9122cbe2e38a",
    "colab": {
     "base_uri": "https://localhost:8080/"
    }
   },
   "execution_count": 84,
   "outputs": [
    {
     "output_type": "stream",
     "name": "stdout",
     "text": [
      "1/1 [==============================] - 0s 78ms/step\n",
      "Prediction [[1. 1.]\n",
      " [1. 1.]\n",
      " [0. 1.]]\n"
     ]
    }
   ]
  }
 ]
}
